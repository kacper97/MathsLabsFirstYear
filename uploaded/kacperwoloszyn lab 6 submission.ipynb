{
 "cells": [
  {
   "cell_type": "markdown",
   "metadata": {},
   "source": [
    "# Discrete Mathematics\n",
    "## Practical 4 --- Testing logic part 2\n",
    " \n",
    "**Resources**\n",
    " * Google search: (optional) markdown beginner tutorial\n",
    " * Google search: python beginner tutorial (python 3)"
   ]
  },
  {
   "cell_type": "markdown",
   "metadata": {},
   "source": [
    "## Logic in Python\n",
    "\n",
    "In Python we have the following terms for determining if something is \"True\" or \"False.\" Logic on a computer is all about seeing if some combination of these characters and some variables is True at that point in the program.\n",
    "\n",
    "* and\n",
    "* or\n",
    "* not\n",
    "* not equal: != \n",
    "* equal == \n",
    "* greater than or equal: >=\n",
    "* less-than-equal: < = \n",
    "* True\n",
    "* False"
   ]
  },
  {
   "cell_type": "markdown",
   "metadata": {},
   "source": [
    "## Constructing Truth tables\n",
    "\n",
    "As covered in the lectures truth tables are straightforward but prone to errors when done by hand, so this is ideal for computers!"
   ]
  },
  {
   "cell_type": "markdown",
   "metadata": {},
   "source": [
    "### Example\n",
    "Construct a truth table for $(p\\land \\lnot q) \\lor (r \\land p)$, and determine whether the proposition is a tautology, a contradiction or neither."
   ]
  },
  {
   "cell_type": "markdown",
   "metadata": {},
   "source": [
    "First we will define a function to represent our proposition (to save typing later) ..."
   ]
  },
  {
   "cell_type": "code",
   "execution_count": 1,
   "metadata": {
    "collapsed": false
   },
   "outputs": [],
   "source": [
    "# Define a function to represent our propostion. This will save typing later\n",
    "def P(p,q,r):\n",
    "    return (p and not q) or (r and p) "
   ]
  },
  {
   "cell_type": "code",
   "execution_count": 2,
   "metadata": {
    "collapsed": true
   },
   "outputs": [],
   "source": [
    "# Also we want to use out set builder notation to run over _True_ and _False_ so (again to save typing) we define ...\n",
    "S = [False, True]"
   ]
  },
  {
   "cell_type": "code",
   "execution_count": 3,
   "metadata": {
    "collapsed": false
   },
   "outputs": [
    {
     "data": {
      "text/plain": [
       "[False, False, False, False, True, True, False, True]"
      ]
     },
     "execution_count": 3,
     "metadata": {},
     "output_type": "execute_result"
    }
   ],
   "source": [
    "# First attempt - we evaluate function for all allowed input combinations\n",
    "[P(p,q,r) for p in S for q in S for r in S]"
   ]
  },
  {
   "cell_type": "code",
   "execution_count": 4,
   "metadata": {
    "collapsed": false
   },
   "outputs": [
    {
     "name": "stdout",
     "output_type": "stream",
     "text": [
      "False False False False\n",
      "False False True False\n",
      "False True False False\n",
      "False True True False\n",
      "True False False True\n",
      "True False True True\n",
      "True True False False\n",
      "True True True True\n"
     ]
    }
   ],
   "source": [
    "# This time let's actually generate the truth table\n",
    "inputs = [(p,q,r) for p in S for q in S for r in S]\n",
    "for (p,q,r) in inputs:\n",
    "    print (p, q, r, P(p,q,r))"
   ]
  },
  {
   "cell_type": "code",
   "execution_count": 5,
   "metadata": {
    "collapsed": false
   },
   "outputs": [
    {
     "name": "stdout",
     "output_type": "stream",
     "text": [
      "    p      q      r | P(p,q,r) \n",
      "------------------------------\n",
      "False  False  False | False \n",
      "False  False   True | False \n",
      "False   True  False | False \n",
      "False   True   True | False \n",
      " True  False  False |  True \n",
      " True  False   True |  True \n",
      " True   True  False | False \n",
      " True   True   True |  True \n"
     ]
    }
   ],
   "source": [
    "# This time lets improve on the horrible looking output\n",
    "inputs = [(p,q,r) for p in S for q in S for r in S]\n",
    "print (\"%5s  %5s  %5s | %5s \" % (\"p\", \"q\", \"r\", \"P(p,q,r)\"))\n",
    "print (\"-\"*30)\n",
    "for (p,q,r) in inputs:\n",
    "    print (\"%5s  %5s  %5s | %5s \" % (p, q, r, P(p,q,r)))"
   ]
  },
  {
   "cell_type": "code",
   "execution_count": null,
   "metadata": {
    "collapsed": true
   },
   "outputs": [],
   "source": []
  },
  {
   "cell_type": "markdown",
   "metadata": {},
   "source": [
    "**Q1** Construct a well formatted truth table to show $(p\\lor (q \\land q)).$ "
   ]
  },
  {
   "cell_type": "code",
   "execution_count": 15,
   "metadata": {
    "collapsed": true
   },
   "outputs": [],
   "source": [
    "def P(p,q):\n",
    "    return (p or(q and q))"
   ]
  },
  {
   "cell_type": "code",
   "execution_count": 16,
   "metadata": {
    "collapsed": true
   },
   "outputs": [],
   "source": [
    "S = [False, True]"
   ]
  },
  {
   "cell_type": "code",
   "execution_count": 17,
   "metadata": {
    "collapsed": false
   },
   "outputs": [
    {
     "data": {
      "text/plain": [
       "[False, True, True, True]"
      ]
     },
     "execution_count": 17,
     "metadata": {},
     "output_type": "execute_result"
    }
   ],
   "source": [
    "[P(p,q) for p in S for q in S]"
   ]
  },
  {
   "cell_type": "code",
   "execution_count": 18,
   "metadata": {
    "collapsed": false,
    "scrolled": true
   },
   "outputs": [
    {
     "name": "stdout",
     "output_type": "stream",
     "text": [
      "False False False\n",
      "False True True\n",
      "True False True\n",
      "True True True\n"
     ]
    }
   ],
   "source": [
    "inputs = [(p,q) for p in S for q in S ]\n",
    "for (p,q) in inputs:\n",
    "    print (p, q,P(p,q))"
   ]
  },
  {
   "cell_type": "code",
   "execution_count": 29,
   "metadata": {
    "collapsed": false
   },
   "outputs": [
    {
     "name": "stdout",
     "output_type": "stream",
     "text": [
      "    p     q | p(p,q) \n",
      "------------------------------\n",
      "False False | False \n",
      "False  True |  True \n",
      " True False |  True \n",
      " True  True |  True \n"
     ]
    }
   ],
   "source": [
    "print (\"%5s %5s | %5s \" % (\"p\",\"q\",\"p(p,q)\"))\n",
    "print (\"-\"*30)\n",
    "for (p,q) in inputs:\n",
    "    print (\"%5s %5s | %5s \" % (p, q, P(p,q)))"
   ]
  },
  {
   "cell_type": "markdown",
   "metadata": {},
   "source": [
    "**Q2** Construct a well formatted truth table to show the logical equivalence of $\\neg (p\\lor q \\lor r \\lor s)$ and $\\neg p \\land \\neg q \\land \\neg r \\land \\neg s.$  "
   ]
  },
  {
   "cell_type": "code",
   "execution_count": 36,
   "metadata": {
    "collapsed": true
   },
   "outputs": [],
   "source": [
    "def P(p,q,r,s):\n",
    "    return (not(p or q or r or s))"
   ]
  },
  {
   "cell_type": "code",
   "execution_count": 37,
   "metadata": {
    "collapsed": true
   },
   "outputs": [],
   "source": [
    "S = [False, True]"
   ]
  },
  {
   "cell_type": "code",
   "execution_count": 38,
   "metadata": {
    "collapsed": false
   },
   "outputs": [
    {
     "data": {
      "text/plain": [
       "[True,\n",
       " False,\n",
       " False,\n",
       " False,\n",
       " False,\n",
       " False,\n",
       " False,\n",
       " False,\n",
       " False,\n",
       " False,\n",
       " False,\n",
       " False,\n",
       " False,\n",
       " False,\n",
       " False,\n",
       " False]"
      ]
     },
     "execution_count": 38,
     "metadata": {},
     "output_type": "execute_result"
    }
   ],
   "source": [
    "[P(p,q,r,s) for p in S for q in S for r in S for s in S]"
   ]
  },
  {
   "cell_type": "code",
   "execution_count": 56,
   "metadata": {
    "collapsed": false
   },
   "outputs": [
    {
     "name": "stdout",
     "output_type": "stream",
     "text": [
      "False False False False True\n",
      "False False False True False\n",
      "False False True False False\n",
      "False False True True False\n",
      "False True False False False\n",
      "False True False True False\n",
      "False True True False False\n",
      "False True True True False\n",
      "True False False False False\n",
      "True False False True False\n",
      "True False True False False\n",
      "True False True True False\n",
      "True True False False False\n",
      "True True False True False\n",
      "True True True False False\n",
      "True True True True False\n"
     ]
    }
   ],
   "source": [
    "inputs = [(p,q,r,s) for p in S for q in S for r in S for s in S]\n",
    "for (p,q,r,s) in inputs:\n",
    "    print (p, q, r, s,P(p,q,r,s))"
   ]
  },
  {
   "cell_type": "code",
   "execution_count": 5,
   "metadata": {
    "collapsed": false
   },
   "outputs": [
    {
     "name": "stdout",
     "output_type": "stream",
     "text": [
      "    p     q     r     s | P(p,q,r,s) \n",
      "------------------------------\n",
      "False  False False False |  True \n",
      "False  False False  True | False \n",
      "False  False  True False | False \n",
      "False  False  True  True | False \n",
      "False   True False False | False \n",
      "False   True False  True | False \n",
      "False   True  True False | False \n",
      "False   True  True  True | False \n",
      " True  False False False | False \n",
      " True  False False  True | False \n",
      " True  False  True False | False \n",
      " True  False  True  True | False \n",
      " True   True False False | False \n",
      " True   True False  True | False \n",
      " True   True  True False | False \n",
      " True   True  True  True | False \n"
     ]
    }
   ],
   "source": [
    "print (\"%5s %5s %5s %5s | %5s \" % (\"p\", \"q\", \"r\", \"s\", \"P(p,q,r,s)\"))\n",
    "print (\"-\"*30)\n",
    "for (p,q,r,s) in inputs:\n",
    "    print (\"%5s  %5s %5s %5s | %5s \" % (p, q, r, s, P(p,q,r,s)))"
   ]
  },
  {
   "cell_type": "code",
   "execution_count": 1,
   "metadata": {
    "collapsed": true
   },
   "outputs": [],
   "source": [
    "def P(p,q,r,s):\n",
    "    return (not p and not q and not r and not s)"
   ]
  },
  {
   "cell_type": "code",
   "execution_count": 7,
   "metadata": {
    "collapsed": true
   },
   "outputs": [],
   "source": [
    "S = [False, True]"
   ]
  },
  {
   "cell_type": "code",
   "execution_count": 8,
   "metadata": {
    "collapsed": false
   },
   "outputs": [
    {
     "data": {
      "text/plain": [
       "[True,\n",
       " False,\n",
       " False,\n",
       " False,\n",
       " False,\n",
       " False,\n",
       " False,\n",
       " False,\n",
       " False,\n",
       " False,\n",
       " False,\n",
       " False,\n",
       " False,\n",
       " False,\n",
       " False,\n",
       " False]"
      ]
     },
     "execution_count": 8,
     "metadata": {},
     "output_type": "execute_result"
    }
   ],
   "source": [
    "[P(p,q,r,s) for p in S for q in S for r in S for s in S]"
   ]
  },
  {
   "cell_type": "code",
   "execution_count": 9,
   "metadata": {
    "collapsed": false
   },
   "outputs": [
    {
     "name": "stdout",
     "output_type": "stream",
     "text": [
      "False False False False True\n",
      "False False False True False\n",
      "False False True False False\n",
      "False False True True False\n",
      "False True False False False\n",
      "False True False True False\n",
      "False True True False False\n",
      "False True True True False\n",
      "True False False False False\n",
      "True False False True False\n",
      "True False True False False\n",
      "True False True True False\n",
      "True True False False False\n",
      "True True False True False\n",
      "True True True False False\n",
      "True True True True False\n"
     ]
    }
   ],
   "source": [
    "inputs = [(p,q,r,s) for p in S for q in S for r in S for s in S]\n",
    "for (p,q,r,s) in inputs:\n",
    "    print (p, q, r, s,P(p,q,r,s))"
   ]
  },
  {
   "cell_type": "code",
   "execution_count": 10,
   "metadata": {
    "collapsed": false
   },
   "outputs": [
    {
     "name": "stdout",
     "output_type": "stream",
     "text": [
      "    p     q     r     s | P(p,q,r,s) \n",
      "------------------------------\n",
      "False  False False False |  True \n",
      "False  False False  True | False \n",
      "False  False  True False | False \n",
      "False  False  True  True | False \n",
      "False   True False False | False \n",
      "False   True False  True | False \n",
      "False   True  True False | False \n",
      "False   True  True  True | False \n",
      " True  False False False | False \n",
      " True  False False  True | False \n",
      " True  False  True False | False \n",
      " True  False  True  True | False \n",
      " True   True False False | False \n",
      " True   True False  True | False \n",
      " True   True  True False | False \n",
      " True   True  True  True | False \n"
     ]
    }
   ],
   "source": [
    "print (\"%5s %5s %5s %5s | %5s \" % (\"p\", \"q\", \"r\", \"s\", \"P(p,q,r,s)\"))\n",
    "print (\"-\"*30)\n",
    "for (p,q,r,s) in inputs:\n",
    "    print (\"%5s  %5s %5s %5s | %5s \" % (p, q, r, s, P(p,q,r,s)))"
   ]
  }
 ],
 "metadata": {
  "kernelspec": {
   "display_name": "Python 3",
   "language": "python",
   "name": "python3"
  },
  "language_info": {
   "codemirror_mode": {
    "name": "ipython",
    "version": 3
   },
   "file_extension": ".py",
   "mimetype": "text/x-python",
   "name": "python",
   "nbconvert_exporter": "python",
   "pygments_lexer": "ipython3",
   "version": "3.4.3"
  }
 },
 "nbformat": 4,
 "nbformat_minor": 0
}
