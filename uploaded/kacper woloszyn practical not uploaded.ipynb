{
 "cells": [
  {
   "cell_type": "markdown",
   "metadata": {},
   "source": [
    "# Discrete Mathematics\n",
    "## Practical 3 --- Creating functions\n",
    " \n",
    "**Resources**\n",
    " * Google search: (optional) markdown beginner tutorial\n",
    " * Google search: python beginner tutorial (python 3)"
   ]
  },
  {
   "cell_type": "markdown",
   "metadata": {
    "collapsed": true
   },
   "source": [
    "## Functions in Python\n",
    "\n",
    "In this section we will use python to create function using builder notation. Recall from last week:\n",
    "\n",
    "**Math <-> Python Translation** \n",
    "\n",
    "* Without conditions:\n",
    "     - Mathematics: $\\{x | x \\in A \\}$\n",
    "     - Python $\\{ x \\mbox{ for } x \\mbox{ in } A\\}$\n",
    "* With conditions:\n",
    "     - Mathematics: $\\{x | x \\in A, x \\mbox{ satisfies some condition } \\}$\n",
    "     - Python $\\{ x \\mbox{ for } x \\mbox{ in } A \\mbox{ if } x \\mbox{ satisfies some condition }\\}$"
   ]
  },
  {
   "cell_type": "markdown",
   "metadata": {},
   "source": [
    "**Ex1** Lets use the set builder notation to define a function that removes odd numbers from a set"
   ]
  },
  {
   "cell_type": "code",
   "execution_count": 1,
   "metadata": {
    "collapsed": false
   },
   "outputs": [],
   "source": [
    "# Define the function returnevens, which will return even numbers from any set input\n",
    "def returnevens(x):\n",
    "    return {n for n in x if n% 2 ==0}"
   ]
  },
  {
   "cell_type": "code",
   "execution_count": 2,
   "metadata": {
    "collapsed": false
   },
   "outputs": [
    {
     "data": {
      "text/plain": [
       "{2, 4, 6}"
      ]
     },
     "execution_count": 2,
     "metadata": {},
     "output_type": "execute_result"
    }
   ],
   "source": [
    "# Testing returnevens on the set A\n",
    "A = {1,2,3,4,5,6}\n",
    "returnevens(A)"
   ]
  },
  {
   "cell_type": "markdown",
   "metadata": {},
   "source": [
    "**Q1** Create a function using builder notation that returns only odd numbers from a set. Check the function on the set $A = \\{3,4,5,6,7,8,9,10 \\}.$"
   ]
  },
  {
   "cell_type": "code",
   "execution_count": 7,
   "metadata": {
    "collapsed": false
   },
   "outputs": [
    {
     "data": {
      "text/plain": [
       "{1, 3, 5}"
      ]
     },
     "execution_count": 7,
     "metadata": {},
     "output_type": "execute_result"
    }
   ],
   "source": [
    "def returnodds(x):\n",
    "    return {n for n in x if n% 2 ==1}\n",
    "A = {1,2,3,4,5,6}\n",
    "returnodds(A)"
   ]
  },
  {
   "cell_type": "markdown",
   "metadata": {},
   "source": [
    "**Q2** Create a function using builder notation that returns only positive numbers from a set. Check the function on the set $A = \\{-3,-2,-1,0,1,2,3\\}.$ "
   ]
  },
  {
   "cell_type": "code",
   "execution_count": 8,
   "metadata": {
    "collapsed": false
   },
   "outputs": [
    {
     "data": {
      "text/plain": [
       "{1, 2, 3}"
      ]
     },
     "execution_count": 8,
     "metadata": {},
     "output_type": "execute_result"
    }
   ],
   "source": [
    "def returnpositive(x):\n",
    "    return {n for n in x if n >=1}\n",
    "A = {-3,-2,-1,0,1,2,3}\n",
    "returnpositive(A)"
   ]
  },
  {
   "cell_type": "markdown",
   "metadata": {},
   "source": [
    "**Ex2** Lets use the set builder notation to define a function that returns a set with pairs that satisfy a certain property"
   ]
  },
  {
   "cell_type": "code",
   "execution_count": 3,
   "metadata": {
    "collapsed": true
   },
   "outputs": [],
   "source": [
    "# Defining a function that returns pairs with the property m^2 - n in x from any input set, \n",
    "def returnpairs(x,y):\n",
    "        return {(n,m) for n in x for m in y if n**2 - m in x}"
   ]
  },
  {
   "cell_type": "code",
   "execution_count": 4,
   "metadata": {
    "collapsed": false
   },
   "outputs": [
    {
     "data": {
      "text/plain": [
       "{(2, 3), (3, 4), (3, 5), (3, 6)}"
      ]
     },
     "execution_count": 4,
     "metadata": {},
     "output_type": "execute_result"
    }
   ],
   "source": [
    "A = {1,2,3,4,5}\n",
    "B = {3,4,5,6}\n",
    "returnpairs(A,B)"
   ]
  },
  {
   "cell_type": "markdown",
   "metadata": {},
   "source": [
    "**Q3** Create a function using builder notation that returns the set of pairs with the property that the 1st element of the ordered pair divided by the second element of the ordered pair leaves no remainder. Check the function on the sets $A = \\{5,6,7,8,9,10 \\}$ and $B = \\{3,4,5,6,7,8,9,10 \\}$ "
   ]
  },
  {
   "cell_type": "code",
   "execution_count": 9,
   "metadata": {
    "collapsed": false
   },
   "outputs": [
    {
     "data": {
      "text/plain": [
       "{(5, 5),\n",
       " (6, 3),\n",
       " (6, 6),\n",
       " (7, 7),\n",
       " (8, 4),\n",
       " (8, 8),\n",
       " (9, 3),\n",
       " (9, 9),\n",
       " (10, 5),\n",
       " (10, 10)}"
      ]
     },
     "execution_count": 9,
     "metadata": {},
     "output_type": "execute_result"
    }
   ],
   "source": [
    "def returnpairs(x,y):\n",
    "    return{(n,m) for n in x for m in y if n% m ==0}\n",
    "A = {5,6,7,8,9,10}\n",
    "B = {3,4,5,6,7,8,9,10}\n",
    "returnpairs(A,B)"
   ]
  },
  {
   "cell_type": "markdown",
   "metadata": {},
   "source": [
    "**Q4** Create a function using builder notation that returns the set of pairs with the property that twice the first element of the ordered pair is equal to the second element of the ordered pair. Check the function on the sets $A = \\{2,3,4,5\\}$ and $B = \\{6,7,8,9,10 \\}$ "
   ]
  },
  {
   "cell_type": "code",
   "execution_count": 10,
   "metadata": {
    "collapsed": false
   },
   "outputs": [
    {
     "data": {
      "text/plain": [
       "{(3, 6), (4, 8), (5, 10)}"
      ]
     },
     "execution_count": 10,
     "metadata": {},
     "output_type": "execute_result"
    }
   ],
   "source": [
    "def returnpairs(x,y):\n",
    "    return{(n,m) for n in x for m in y if n*2 ==m}\n",
    "A = {2,3,4,5}\n",
    "B = {6,7,8,9,10}\n",
    "returnpairs(A,B)"
   ]
  },
  {
   "cell_type": "markdown",
   "metadata": {},
   "source": [
    "**Ex3** \n",
    "* Find the set of ordered pairs satisfying $\\{(x,y)| x \\in A, y \\in B, x < y \\}$ where $A = \\{1,2,3,4\\}$ and $B = \\{3,4,5,6\\}.$\n",
    "* Create a function to returns pairs that add to an even number. \n",
    "* Return these pairs from the set you have just created."
   ]
  },
  {
   "cell_type": "code",
   "execution_count": 6,
   "metadata": {
    "collapsed": false
   },
   "outputs": [
    {
     "data": {
      "text/plain": [
       "{(1, 3), (1, 5), (2, 4), (2, 6), (3, 5), (4, 6)}"
      ]
     },
     "execution_count": 6,
     "metadata": {},
     "output_type": "execute_result"
    }
   ],
   "source": [
    "# Create a subset of ordered pairs and then apply your function to that subset\n",
    "A = {1,2,3,4}\n",
    "B = {3,4,5,6}\n",
    "C = {(x,y) for x in A for y in B if x < y}\n",
    "def returnevenpairs(C): \n",
    "#python no longer views the ordered pairs as separate elements so you need to look at each pair (x,y) in C\n",
    "    return { (x,y) for (x,y) in C if (x+y)%2==0 }\n",
    "returnevenpairs(C)"
   ]
  },
  {
   "cell_type": "markdown",
   "metadata": {},
   "source": [
    "**Q5** \n",
    "* Find the set of ordered pairs satisfying $\\{(x,y)| x \\in A, y \\in B, x^2 - y \\in A \\}$ where $A = \\{1,2,3,4\\}$ and $B = \\{1,2,3,4\\}.$ \n",
    "* Create a function to returns pairs that have the same first and second element. \n",
    "* Return these pairs from the set you have just created."
   ]
  },
  {
   "cell_type": "code",
   "execution_count": 11,
   "metadata": {
    "collapsed": false
   },
   "outputs": [
    {
     "data": {
      "text/plain": [
       "{(2, 2), (3, 3), (4, 4)}"
      ]
     },
     "execution_count": 11,
     "metadata": {},
     "output_type": "execute_result"
    }
   ],
   "source": [
    "A = {1,2,3,4}\n",
    "B = {1,2,3,4}\n",
    "C = [(x,y) for x in A for y in B if x**2 - y]\n",
    "def returnpairs(C):\n",
    "    return { (x,y) for (x,y) in C if x ==y}\n",
    "returnpairs(C)"
   ]
  },
  {
   "cell_type": "markdown",
   "metadata": {},
   "source": [
    "**Q6** \n",
    "* Find the set of ordered pairs satisfying $\\{(x,y)| x \\in A, y \\in A, x + y > 10 \\}$ where $A = \\{3,4,5,6,7,8\\}.$  \n",
    "* Create a function to return pairs that add to an odd number. \n",
    "* Return these pairs from the set you have just created."
   ]
  },
  {
   "cell_type": "code",
   "execution_count": 23,
   "metadata": {
    "collapsed": false
   },
   "outputs": [
    {
     "data": {
      "text/plain": [
       "{(3, 8),\n",
       " (4, 7),\n",
       " (5, 6),\n",
       " (5, 8),\n",
       " (6, 5),\n",
       " (6, 7),\n",
       " (7, 4),\n",
       " (7, 6),\n",
       " (7, 8),\n",
       " (8, 3),\n",
       " (8, 5),\n",
       " (8, 7)}"
      ]
     },
     "execution_count": 23,
     "metadata": {},
     "output_type": "execute_result"
    }
   ],
   "source": [
    "A = {3,4,5,6,7,8}\n",
    "B = {(x,y) for x in A for y in A if (x+y)>10}\n",
    "def returnpairs(B):\n",
    "    return { (x,y) for (x,y) in B if (x+y)% 2 ==1}\n",
    "returnpairs(B)"
   ]
  }
 ],
 "metadata": {
  "kernelspec": {
   "display_name": "Python 3",
   "language": "python",
   "name": "python3"
  },
  "language_info": {
   "codemirror_mode": {
    "name": "ipython",
    "version": 3
   },
   "file_extension": ".py",
   "mimetype": "text/x-python",
   "name": "python",
   "nbconvert_exporter": "python",
   "pygments_lexer": "ipython3",
   "version": "3.4.3"
  }
 },
 "nbformat": 4,
 "nbformat_minor": 0
}
