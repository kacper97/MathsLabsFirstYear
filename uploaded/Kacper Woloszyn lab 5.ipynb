{
 "cells": [
  {
   "cell_type": "markdown",
   "metadata": {},
   "source": [
    "# Discrete Mathematics\n",
    "## Practical 4 --- Testing logic\n",
    " \n",
    "**Resources**\n",
    " * Google search: (optional) markdown beginner tutorial\n",
    " * Google search: python beginner tutorial (python 3)"
   ]
  },
  {
   "cell_type": "markdown",
   "metadata": {
    "collapsed": true
   },
   "source": [
    "##Logic in Python\n",
    "\n",
    "In Python we have the following terms for determining if something is \"True\" or \"False.\" Logic on a computer is all about seeing if some combination of these characters and some variables is True at that point in the program.\n",
    "\n",
    "* and\n",
    "* or\n",
    "* not\n",
    "* not equal: != \n",
    "* equal == \n",
    "* greater than or equal: >=\n",
    "* less-than-equal: < = \n",
    "* True\n",
    "* False"
   ]
  },
  {
   "cell_type": "markdown",
   "metadata": {},
   "source": [
    "**Q1** Let a = 6, b = 7 and c = 42. Use python to find the truth value for the following propositions:\n",
    "\n",
    "* a equal to 6\n",
    "* a equal to 7\n",
    "* a equal to 6 and b equal to 7\n",
    "* a equal to 7 and b equal to 7\n",
    "* not a equal to 7 and b equal to 7\n",
    "* a equal to 7 or b equal to 7\n",
    "* a equal to 7 or b equal to 6\n",
    "* not a equal to 7 or not b equal to 6\n",
    "* not a equal to 7 and b equal to 6\n"
   ]
  },
  {
   "cell_type": "code",
   "execution_count": 15,
   "metadata": {
    "collapsed": false
   },
   "outputs": [
    {
     "name": "stdout",
     "output_type": "stream",
     "text": [
      "a=6? True\n",
      "a=7? False\n",
      "a=7 and b=7? True\n",
      "a=7 and b=7? False\n",
      "a!=7 and b=7 True\n",
      "a=7 or b=7 True\n",
      "a=7 or b=6 True\n",
      "a!=7 or b!=6 True\n",
      "a!=7 and b=6 True\n"
     ]
    }
   ],
   "source": [
    "# you can continue below. I have done the first three to get you started!\n",
    "a =6\n",
    "b = 7\n",
    "c = 42\n",
    "print('a=6?', a ==6)\n",
    "print('a=7?', a ==7)\n",
    "print('a=7 and b=7?', a ==6 and b==7)\n",
    "print('a=7 and b=7?', a ==7 and b==7)\n",
    "print('a!=7 and b=7', a ==6 and b==7)\n",
    "print('a=7 or b=7', a==6 and b==7)\n",
    "print('a=7 or b=6', a==6 and b==7)\n",
    "print('a!=7 or b!=6', a==6 and b==7)\n",
    "print('a!=7 and b=6',a==6 and b==7)"
   ]
  },
  {
   "cell_type": "markdown",
   "metadata": {
    "collapsed": true
   },
   "source": [
    "**Example** Define the following propositions:\n",
    "\n",
    " * h = _he is happily married_\n",
    " * w = _he is wealthy_\n",
    " * s = _he is smart_\n",
    " \n",
    "Write the following statements in symbolic form:\n",
    "\n",
    " 1. He is happily married and wealthy but not smart.\n",
    " 2. He is not wealthy, but he is happily married and smart.\n",
    " 3. He is neither happily married, nor wealthy, nor smart."
   ]
  },
  {
   "cell_type": "code",
   "execution_count": 25,
   "metadata": {
    "collapsed": true
   },
   "outputs": [],
   "source": [
    "# initialise the propositions\n",
    "h, w, s = False, False, False"
   ]
  },
  {
   "cell_type": "code",
   "execution_count": 26,
   "metadata": {
    "collapsed": false
   },
   "outputs": [
    {
     "data": {
      "text/plain": [
       "False"
      ]
     },
     "execution_count": 26,
     "metadata": {},
     "output_type": "execute_result"
    }
   ],
   "source": [
    "# 1. He is happily married and wealthy but not smart.\n",
    "h and w and (not s)"
   ]
  },
  {
   "cell_type": "code",
   "execution_count": 27,
   "metadata": {
    "collapsed": false
   },
   "outputs": [
    {
     "data": {
      "text/plain": [
       "False"
      ]
     },
     "execution_count": 27,
     "metadata": {},
     "output_type": "execute_result"
    }
   ],
   "source": [
    "# 2. He is not wealthy, but he is happily married and smart.\n",
    "not w and h and s"
   ]
  },
  {
   "cell_type": "code",
   "execution_count": 28,
   "metadata": {
    "collapsed": false
   },
   "outputs": [
    {
     "data": {
      "text/plain": [
       "True"
      ]
     },
     "execution_count": 28,
     "metadata": {},
     "output_type": "execute_result"
    }
   ],
   "source": [
    "# 3. He is neither happily married, nor wealthy, nor smart.\n",
    "(not w) and (not h) and (not s)"
   ]
  },
  {
   "cell_type": "markdown",
   "metadata": {},
   "source": [
    "**Q2** Change the initial propositions to true, true true for the above example and write the following statements in symbolic form\n",
    " 1. He is happily married or wealthy.\n",
    " 2. He is wealthy, but he is not happily married nor smart.\n",
    " 3. He is either happily married or wealthy but not smart."
   ]
  },
  {
   "cell_type": "code",
   "execution_count": 3,
   "metadata": {
    "collapsed": true
   },
   "outputs": [],
   "source": [
    "h, w, s =True,True,True\n"
   ]
  },
  {
   "cell_type": "code",
   "execution_count": 4,
   "metadata": {
    "collapsed": false
   },
   "outputs": [
    {
     "data": {
      "text/plain": [
       "True"
      ]
     },
     "execution_count": 4,
     "metadata": {},
     "output_type": "execute_result"
    }
   ],
   "source": [
    "#1. He is happily married or wealthy.\n",
    "h or w\n"
   ]
  },
  {
   "cell_type": "code",
   "execution_count": 5,
   "metadata": {
    "collapsed": false
   },
   "outputs": [
    {
     "data": {
      "text/plain": [
       "False"
      ]
     },
     "execution_count": 5,
     "metadata": {},
     "output_type": "execute_result"
    }
   ],
   "source": [
    "#2. He is wealthy, but he is not happily married nor smart.\n",
    "w and (not h) and (not s)"
   ]
  },
  {
   "cell_type": "code",
   "execution_count": 6,
   "metadata": {
    "collapsed": false
   },
   "outputs": [
    {
     "data": {
      "text/plain": [
       "False"
      ]
     },
     "execution_count": 6,
     "metadata": {},
     "output_type": "execute_result"
    }
   ],
   "source": [
    "#3. He is either happily married or wealthy but not smart.\n",
    "h and w and(not s)"
   ]
  },
  {
   "cell_type": "markdown",
   "metadata": {},
   "source": [
    "**Q3** \n",
    "Let n = \"Nancy will major in computer science\" and k=\"Karen will major in computer science\". Write the following statement in symbolic form: \n",
    "*Either Nancy will major in computer science or Karen will major in computer science, but not both.*\n"
   ]
  },
  {
   "cell_type": "code",
   "execution_count": 22,
   "metadata": {
    "collapsed": false
   },
   "outputs": [],
   "source": [
    "n,k= True,True"
   ]
  },
  {
   "cell_type": "code",
   "execution_count": 23,
   "metadata": {
    "collapsed": false
   },
   "outputs": [
    {
     "data": {
      "text/plain": [
       "True"
      ]
     },
     "execution_count": 23,
     "metadata": {},
     "output_type": "execute_result"
    }
   ],
   "source": [
    "#1.  Either Nancy will major in computer science or Karen will major in computer science, but not both.\n",
    "n or k (not n and k)"
   ]
  },
  {
   "cell_type": "markdown",
   "metadata": {},
   "source": [
    "**Q4**\n",
    "Consider a very simplistic computing device that can raise any combination of the following three flags:\n",
    " * MEM which indicates that the computer is out of memory,\n",
    " * IO which indicates that a disk input/output error has occurred,\n",
    " * SSD which indicates that the Solid State Drive (SSD) does not have free space.\n",
    "\n",
    "\n",
    "We use _p_ to mean \"_the MEM flag is off\"_, that is, the flag is zero. And similarly we use _q_ and _r_ to mean that the ID and SSD flags respectively are off. Write the following statements in symbolic form:\n",
    "\n",
    " 1. MEM is off and IO is off and SSD is off.\n",
    " 2. MEM is off but IO is on.\n",
    " 3. There is enough memory in the computer; however, either a disk input/output error has occurred or the SSD is out   \n",
    " 4. The computer is out of memory and no disk input/output error has occurred, but the SSD disk is out of space.\n",
    " \n",
    "Initialise the propositions to false, false, false"
   ]
  },
  {
   "cell_type": "code",
   "execution_count": 24,
   "metadata": {
    "collapsed": true
   },
   "outputs": [],
   "source": [
    "p,q,r = True,True,True"
   ]
  },
  {
   "cell_type": "code",
   "execution_count": 26,
   "metadata": {
    "collapsed": false
   },
   "outputs": [
    {
     "data": {
      "text/plain": [
       "False"
      ]
     },
     "execution_count": 26,
     "metadata": {},
     "output_type": "execute_result"
    }
   ],
   "source": [
    "p and (not q) and (not r)"
   ]
  },
  {
   "cell_type": "code",
   "execution_count": 27,
   "metadata": {
    "collapsed": false
   },
   "outputs": [
    {
     "data": {
      "text/plain": [
       "True"
      ]
     },
     "execution_count": 27,
     "metadata": {},
     "output_type": "execute_result"
    }
   ],
   "source": [
    "p and q"
   ]
  },
  {
   "cell_type": "code",
   "execution_count": 28,
   "metadata": {
    "collapsed": false
   },
   "outputs": [
    {
     "data": {
      "text/plain": [
       "True"
      ]
     },
     "execution_count": 28,
     "metadata": {},
     "output_type": "execute_result"
    }
   ],
   "source": [
    "q or r"
   ]
  },
  {
   "cell_type": "code",
   "execution_count": 29,
   "metadata": {
    "collapsed": false
   },
   "outputs": [
    {
     "data": {
      "text/plain": [
       "False"
      ]
     },
     "execution_count": 29,
     "metadata": {},
     "output_type": "execute_result"
    }
   ],
   "source": [
    "p and (not q) and r"
   ]
  },
  {
   "cell_type": "code",
   "execution_count": 30,
   "metadata": {
    "collapsed": true
   },
   "outputs": [],
   "source": [
    "p,q,r = False,False,False"
   ]
  },
  {
   "cell_type": "code",
   "execution_count": 34,
   "metadata": {
    "collapsed": false
   },
   "outputs": [
    {
     "data": {
      "text/plain": [
       "False"
      ]
     },
     "execution_count": 34,
     "metadata": {},
     "output_type": "execute_result"
    }
   ],
   "source": [
    "not p and q and r"
   ]
  },
  {
   "cell_type": "code",
   "execution_count": 33,
   "metadata": {
    "collapsed": false
   },
   "outputs": [
    {
     "data": {
      "text/plain": [
       "True"
      ]
     },
     "execution_count": 33,
     "metadata": {},
     "output_type": "execute_result"
    }
   ],
   "source": [
    "not p and not q"
   ]
  },
  {
   "cell_type": "code",
   "execution_count": 37,
   "metadata": {
    "collapsed": false
   },
   "outputs": [
    {
     "data": {
      "text/plain": [
       "True"
      ]
     },
     "execution_count": 37,
     "metadata": {},
     "output_type": "execute_result"
    }
   ],
   "source": [
    "not q or not r"
   ]
  },
  {
   "cell_type": "code",
   "execution_count": 38,
   "metadata": {
    "collapsed": false
   },
   "outputs": [
    {
     "data": {
      "text/plain": [
       "False"
      ]
     },
     "execution_count": 38,
     "metadata": {},
     "output_type": "execute_result"
    }
   ],
   "source": [
    "not p and q and not r"
   ]
  }
 ],
 "metadata": {
  "kernelspec": {
   "display_name": "Python 3",
   "language": "python",
   "name": "python3"
  },
  "language_info": {
   "codemirror_mode": {
    "name": "ipython",
    "version": 3
   },
   "file_extension": ".py",
   "mimetype": "text/x-python",
   "name": "python",
   "nbconvert_exporter": "python",
   "pygments_lexer": "ipython3",
   "version": "3.4.3"
  }
 },
 "nbformat": 4,
 "nbformat_minor": 0
}
