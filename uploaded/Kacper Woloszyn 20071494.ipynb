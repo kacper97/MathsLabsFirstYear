{
 "cells": [
  {
   "cell_type": "markdown",
   "metadata": {},
   "source": [
    "# Discrete Mathematics\n",
    "## Practical 1 --- Introduction\n",
    "\n",
    "**Aim**\n",
    " * Why are we programming in Maths?\n",
    " * Why Python (and more specifically, why iPython)?\n",
    " * Using Python as a calculator --- algerbraic operations, and saving/reusing intermediate results.\n",
    " * Using mathematical functions in the __math__ library.\n",
    " \n",
    "**Resources**\n",
    " * Google search: (optional) markdown beginner tutorial\n",
    " * Google search: python beginner tutorial (python 3)"
   ]
  },
  {
   "cell_type": "markdown",
   "metadata": {
    "collapsed": true
   },
   "source": [
    "## Python as a Calculator\n",
    "\n",
    "In this section we will use python to simply evaulate algbrix expreesss. THe alb operations are\n",
    "\n",
    "**Math <-> Python Translation** \n",
    " \n",
    " * + plus,\n",
    " * - minus,\n",
    " * * multiply\n",
    " * / divivison (float) and// divivison (integer)\n",
    "\n",
    " * ** powers\n"
   ]
  },
  {
   "cell_type": "code",
   "execution_count": 16,
   "metadata": {
    "collapsed": false
   },
   "outputs": [
    {
     "data": {
      "text/plain": [
       "45"
      ]
     },
     "execution_count": 16,
     "metadata": {},
     "output_type": "execute_result"
    }
   ],
   "source": [
    "5*9"
   ]
  },
  {
   "cell_type": "markdown",
   "metadata": {},
   "source": [
    "**Q1** Evaluate $5\\times (6 + 7)$ in python"
   ]
  },
  {
   "cell_type": "code",
   "execution_count": 11,
   "metadata": {
    "collapsed": false
   },
   "outputs": [
    {
     "data": {
      "text/plain": [
       "65"
      ]
     },
     "execution_count": 11,
     "metadata": {},
     "output_type": "execute_result"
    }
   ],
   "source": [
    "5 * (6+7)"
   ]
  },
  {
   "cell_type": "markdown",
   "metadata": {},
   "source": [
    "**Q2** Evaluate $5\\times 6 + 7$ in python"
   ]
  },
  {
   "cell_type": "code",
   "execution_count": 12,
   "metadata": {
    "collapsed": false
   },
   "outputs": [
    {
     "data": {
      "text/plain": [
       "37"
      ]
     },
     "execution_count": 12,
     "metadata": {},
     "output_type": "execute_result"
    }
   ],
   "source": [
    "5*6+7"
   ]
  },
  {
   "cell_type": "markdown",
   "metadata": {},
   "source": [
    "## Mathematical Functions \n",
    "\n",
    "import math library and use some simplefunctions."
   ]
  },
  {
   "cell_type": "code",
   "execution_count": 1,
   "metadata": {
    "collapsed": false
   },
   "outputs": [
    {
     "data": {
      "text/plain": [
       "27"
      ]
     },
     "execution_count": 1,
     "metadata": {},
     "output_type": "execute_result"
    }
   ],
   "source": [
    "4*6+3"
   ]
  },
  {
   "cell_type": "markdown",
   "metadata": {},
   "source": [
    "## If you up to it?\n",
    "\n",
    " * Login to project Euler and do the first five problems in python"
   ]
  },
  {
   "cell_type": "markdown",
   "metadata": {},
   "source": [
    "## Set Operations\n",
    "\n",
    "**Math <-> Python Translation** \n",
    "\n",
    " * Empty set \n",
    "     - Mathematics: $\\{\\}$ or $\\emptyset$   \n",
    "     - Pytohn: _set()_    (because _{}_ is used for dictionaries (later))"
   ]
  },
  {
   "cell_type": "code",
   "execution_count": 13,
   "metadata": {
    "collapsed": true
   },
   "outputs": [],
   "source": [
    "# create an empty set called a \n",
    "A = set()"
   ]
  },
  {
   "cell_type": "code",
   "execution_count": 14,
   "metadata": {
    "collapsed": false
   },
   "outputs": [
    {
     "name": "stdout",
     "output_type": "stream",
     "text": [
      "set()\n"
     ]
    }
   ],
   "source": [
    "print(A)"
   ]
  },
  {
   "cell_type": "markdown",
   "metadata": {},
   "source": [
    "**Ex** (Try to) Create a set with duplicate elements (note duplicates are removed)"
   ]
  },
  {
   "cell_type": "code",
   "execution_count": 1,
   "metadata": {
    "collapsed": false
   },
   "outputs": [
    {
     "name": "stdout",
     "output_type": "stream",
     "text": [
      "{1, 2}\n"
     ]
    }
   ],
   "source": [
    "A = {1,2,2}\n",
    "print(A)"
   ]
  },
  {
   "cell_type": "markdown",
   "metadata": {},
   "source": [
    "<html> <head> <title> </title> </head>\n",
    "\n",
    "<body> <table border=\"1\"> <colgroup> <col width=\"41%\"> <col width=\"16%\"> <col width=\"43%\"> </colgroup>\n",
    "\n",
    "\n",
    "<thead> <tr> <th>Operation</th>\n",
    "\n",
    "<th>Equivalent</th>\n",
    "\n",
    "<th>Result</th> </tr> </thead>\n",
    "\n",
    "\n",
    "<tbody> <tr> <td>len(S) </td>\n",
    "\n",
    "<td>#S</td>\n",
    "\n",
    "<td>cardinality of set <em>S</em></td> </tr>\n",
    "\n",
    "\n",
    "<tr> <td>x in S </td>\n",
    "\n",
    "<td> <em>x</em> $\\in$ S</td>\n",
    "\n",
    "<td>test <em>x</em> for membership in <em>S</em></td> </tr>\n",
    "\n",
    "\n",
    "<tr> <td>x not in S </td>\n",
    "\n",
    "<td> <em>x</em> $\\notin$ S</td>\n",
    "\n",
    "<td>test <em>x</em> for non-membership in <em>S</em></td> </tr>\n",
    "\n",
    "\n",
    "<tr> <td>S.issubset(T) </td>\n",
    "\n",
    "<td>S $\\subseteq$ T </td>\n",
    "\n",
    "<td>test whether every element in <em>S</em> is in <em>T</em></td> </tr>\n",
    "\n",
    "\n",
    "<tr> <td>S.issuperset(T) </td>\n",
    "\n",
    "<td>S $\\supseteq$ T </td>\n",
    "\n",
    "<td>test whether every element in <em>T</em> is in <em>S</em></td> </tr>\n",
    "\n",
    "\n",
    "<tr> <td>S.union(T) </td>\n",
    "\n",
    "<td>S $\\cup$ T </td>\n",
    "\n",
    "<td>new set with elements from both <em>S</em> and <em>T</em></td> </tr>\n",
    "\n",
    "\n",
    "<tr> <td>S.intersection(T) </td>\n",
    "\n",
    "<td>S $\\cap$ T </td>\n",
    "\n",
    "<td>new set with elements common to <em>S</em> and <em>T</em></td> </tr>\n",
    "\n",
    "\n",
    "<tr> <td>S.difference(T) </td>\n",
    "\n",
    "<td>$S\\, \\setminus \\,T$ </td>\n",
    "\n",
    "<td>new set with elements in <em>S</em> but not in <em>T</em></td> </tr>\n",
    "\n",
    "\n",
    "<tr> <td>S.symmetric_difference(T) </td>\n",
    "\n",
    "<td>$S\\, \\triangle \\,T$ </td>\n",
    "\n",
    "<td>new set with elements in either <em>S</em> or <em>T</em> but not both</td> </tr>\n",
    "\n",
    "\n",
    "<tr> <td>S.copy() </td> <td> </td>\n",
    "\n",
    "<td>new set with a shallow copy of <em>S</em></td> </tr> </tbody> </table> </body> </html>"
   ]
  },
  {
   "cell_type": "markdown",
   "metadata": {},
   "source": [
    "**Create two Sets: $A=\\{1,2,3,4,5\\}$ and $B=\\{3,4,7,8,9\\}$**\n",
    "\n",
    "Determine the following using IPython commands:\n",
    "\n",
    "\n",
    "$ 3 \\in A $\n",
    "\n",
    "$ 5 \\notin B $\n",
    "\n",
    "$ A \\cup B$\n",
    "\n",
    "$ A \\cap B$\n",
    "\n",
    "$ A \\triangle B$"
   ]
  },
  {
   "cell_type": "code",
   "execution_count": 21,
   "metadata": {
    "collapsed": false,
    "scrolled": true
   },
   "outputs": [
    {
     "name": "stdout",
     "output_type": "stream",
     "text": [
      "{1, 2, 3, 4, 5, 7, 8, 9}\n"
     ]
    },
    {
     "data": {
      "text/plain": [
       "{1, 2, 5}"
      ]
     },
     "execution_count": 21,
     "metadata": {},
     "output_type": "execute_result"
    }
   ],
   "source": [
    "A={1,2,3,4,5}\n",
    "B={3,4,7,8,9}\n",
    "U=A |B\n",
    "print(U)\n",
    "U-B "
   ]
  },
  {
   "cell_type": "code",
   "execution_count": 16,
   "metadata": {
    "collapsed": false,
    "scrolled": true
   },
   "outputs": [
    {
     "data": {
      "text/plain": [
       "True"
      ]
     },
     "execution_count": 16,
     "metadata": {},
     "output_type": "execute_result"
    }
   ],
   "source": [
    "3 in A"
   ]
  },
  {
   "cell_type": "code",
   "execution_count": 17,
   "metadata": {
    "collapsed": false,
    "scrolled": true
   },
   "outputs": [
    {
     "data": {
      "text/plain": [
       "False"
      ]
     },
     "execution_count": 17,
     "metadata": {},
     "output_type": "execute_result"
    }
   ],
   "source": [
    "A.isdisjoint(B)"
   ]
  },
  {
   "cell_type": "code",
   "execution_count": 18,
   "metadata": {
    "collapsed": false
   },
   "outputs": [
    {
     "data": {
      "text/plain": [
       "True"
      ]
     },
     "execution_count": 18,
     "metadata": {},
     "output_type": "execute_result"
    }
   ],
   "source": [
    "C={11,12,13}\n",
    "A.isdisjoint(C)"
   ]
  },
  {
   "cell_type": "code",
   "execution_count": 19,
   "metadata": {
    "collapsed": false
   },
   "outputs": [
    {
     "data": {
      "text/plain": [
       "{3, 4}"
      ]
     },
     "execution_count": 19,
     "metadata": {},
     "output_type": "execute_result"
    }
   ],
   "source": [
    "A.intersection(B)"
   ]
  },
  {
   "cell_type": "markdown",
   "metadata": {},
   "source": [
    "Let A = {1, 2, 3, 4, 5}, C = {5, 6, 7, 8, 9}, E = {2, 4, 6, 8}, B =\n",
    "{4, 5, 6, 7}, D = {1, 3, 5, 7, 9}, F = {1, 5, 9}. Find:\n",
    "\n",
    "(a) A ∪ B and A ∩ B\n",
    "\n",
    "(b) A ∪ C and A ∩ C\n",
    "\n",
    "(c) D ∪ F and D ∩ F\n",
    "\n",
    "(d) A′\n",
    "\n",
    "(e) B′\n",
    "\n",
    "(f) D′\n",
    "\n",
    "(g) E′\n",
    "\n",
    "(h) A \\ B\n",
    "\n",
    "(i) B \\ A\n",
    "\n",
    "(j) D \\ E\n",
    "\n",
    "(k) A∆B\n",
    "\n",
    "(l) C∆D\n",
    "\n",
    "(m) E∆F"
   ]
  },
  {
   "cell_type": "code",
   "execution_count": 1,
   "metadata": {
    "collapsed": false
   },
   "outputs": [
    {
     "data": {
      "text/plain": [
       "{1, 2, 3, 4, 5, 6, 7}"
      ]
     },
     "execution_count": 1,
     "metadata": {},
     "output_type": "execute_result"
    }
   ],
   "source": [
    "A = {1, 2, 3, 4, 5}\n",
    "C = {5, 6, 7, 8, 9}\n",
    "E = {2, 4, 6, 8}\n",
    "B = {4, 5, 6, 7}\n",
    "D = {1, 3, 5, 7, 9}\n",
    "F = {1, 5, 9}\n",
    "U = {1,2,3,4,5,6,7,8,9}\n",
    "\n",
    "A.union(B)"
   ]
  },
  {
   "cell_type": "code",
   "execution_count": 3,
   "metadata": {
    "collapsed": false
   },
   "outputs": [
    {
     "data": {
      "text/plain": [
       "{4, 5}"
      ]
     },
     "execution_count": 3,
     "metadata": {},
     "output_type": "execute_result"
    }
   ],
   "source": [
    "A.intersection(B)"
   ]
  },
  {
   "cell_type": "code",
   "execution_count": 4,
   "metadata": {
    "collapsed": false
   },
   "outputs": [
    {
     "data": {
      "text/plain": [
       "{1, 2, 3, 4, 5, 6, 7, 8, 9}"
      ]
     },
     "execution_count": 4,
     "metadata": {},
     "output_type": "execute_result"
    }
   ],
   "source": [
    "A.union(C)"
   ]
  },
  {
   "cell_type": "code",
   "execution_count": 5,
   "metadata": {
    "collapsed": false
   },
   "outputs": [
    {
     "data": {
      "text/plain": [
       "{5}"
      ]
     },
     "execution_count": 5,
     "metadata": {},
     "output_type": "execute_result"
    }
   ],
   "source": [
    "A.intersection(C)"
   ]
  },
  {
   "cell_type": "code",
   "execution_count": 6,
   "metadata": {
    "collapsed": false
   },
   "outputs": [
    {
     "data": {
      "text/plain": [
       "{1, 3, 5, 7, 9}"
      ]
     },
     "execution_count": 6,
     "metadata": {},
     "output_type": "execute_result"
    }
   ],
   "source": [
    "D.union(F)"
   ]
  },
  {
   "cell_type": "code",
   "execution_count": 7,
   "metadata": {
    "collapsed": false
   },
   "outputs": [
    {
     "data": {
      "text/plain": [
       "{1, 5, 9}"
      ]
     },
     "execution_count": 7,
     "metadata": {},
     "output_type": "execute_result"
    }
   ],
   "source": [
    "D.intersection(F)"
   ]
  },
  {
   "cell_type": "code",
   "execution_count": 8,
   "metadata": {
    "collapsed": false
   },
   "outputs": [
    {
     "data": {
      "text/plain": [
       "{6, 7, 8, 9}"
      ]
     },
     "execution_count": 8,
     "metadata": {},
     "output_type": "execute_result"
    }
   ],
   "source": [
    "U.difference(A)"
   ]
  },
  {
   "cell_type": "code",
   "execution_count": 10,
   "metadata": {
    "collapsed": false
   },
   "outputs": [
    {
     "data": {
      "text/plain": [
       "{1, 2, 3, 8, 9}"
      ]
     },
     "execution_count": 10,
     "metadata": {},
     "output_type": "execute_result"
    }
   ],
   "source": [
    "U.difference(B)"
   ]
  },
  {
   "cell_type": "code",
   "execution_count": 11,
   "metadata": {
    "collapsed": false
   },
   "outputs": [
    {
     "data": {
      "text/plain": [
       "{1, 2, 3, 4}"
      ]
     },
     "execution_count": 11,
     "metadata": {},
     "output_type": "execute_result"
    }
   ],
   "source": [
    "U.difference(C)"
   ]
  },
  {
   "cell_type": "code",
   "execution_count": 12,
   "metadata": {
    "collapsed": false
   },
   "outputs": [
    {
     "data": {
      "text/plain": [
       "{1, 3, 5, 7, 9}"
      ]
     },
     "execution_count": 12,
     "metadata": {},
     "output_type": "execute_result"
    }
   ],
   "source": [
    "U.difference(E)"
   ]
  },
  {
   "cell_type": "code",
   "execution_count": 13,
   "metadata": {
    "collapsed": false
   },
   "outputs": [
    {
     "data": {
      "text/plain": [
       "{1, 2, 3}"
      ]
     },
     "execution_count": 13,
     "metadata": {},
     "output_type": "execute_result"
    }
   ],
   "source": [
    "A.difference(B)"
   ]
  },
  {
   "cell_type": "code",
   "execution_count": 14,
   "metadata": {
    "collapsed": false
   },
   "outputs": [
    {
     "data": {
      "text/plain": [
       "{6, 7}"
      ]
     },
     "execution_count": 14,
     "metadata": {},
     "output_type": "execute_result"
    }
   ],
   "source": [
    "B.difference(A)"
   ]
  },
  {
   "cell_type": "code",
   "execution_count": 15,
   "metadata": {
    "collapsed": false
   },
   "outputs": [
    {
     "data": {
      "text/plain": [
       "{1, 2, 3, 6, 7}"
      ]
     },
     "execution_count": 15,
     "metadata": {},
     "output_type": "execute_result"
    }
   ],
   "source": [
    "A.symmetric_difference(B)"
   ]
  },
  {
   "cell_type": "code",
   "execution_count": 16,
   "metadata": {
    "collapsed": false
   },
   "outputs": [
    {
     "data": {
      "text/plain": [
       "{1, 3, 6, 8}"
      ]
     },
     "execution_count": 16,
     "metadata": {},
     "output_type": "execute_result"
    }
   ],
   "source": [
    "C.symmetric_difference(D)"
   ]
  },
  {
   "cell_type": "code",
   "execution_count": 17,
   "metadata": {
    "collapsed": false
   },
   "outputs": [
    {
     "data": {
      "text/plain": [
       "{1, 2, 4, 5, 6, 8, 9}"
      ]
     },
     "execution_count": 17,
     "metadata": {},
     "output_type": "execute_result"
    }
   ],
   "source": [
    "E.symmetric_difference(F)"
   ]
  }
 ],
 "metadata": {
  "kernelspec": {
   "display_name": "Python 2",
   "language": "python",
   "name": "python2"
  },
  "language_info": {
   "codemirror_mode": {
    "name": "ipython",
    "version": 2
   },
   "file_extension": ".py",
   "mimetype": "text/x-python",
   "name": "python",
   "nbconvert_exporter": "python",
   "pygments_lexer": "ipython2",
   "version": "2.7.10"
  }
 },
 "nbformat": 4,
 "nbformat_minor": 0
}
