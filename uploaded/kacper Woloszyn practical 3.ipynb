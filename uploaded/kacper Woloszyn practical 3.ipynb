{
 "cells": [
  {
   "cell_type": "markdown",
   "metadata": {},
   "source": [
    "# Discrete Mathematics\n",
    "## Practical 2 --- Set builder notation\n",
    " \n",
    "**Resources**\n",
    " * Google search: (optional) markdown beginner tutorial\n",
    " * Google search: python beginner tutorial (python 3)"
   ]
  },
  {
   "cell_type": "markdown",
   "metadata": {
    "collapsed": true
   },
   "source": [
    "## Set builder notation in Python\n",
    "\n",
    "In this section we will use python to create sets using builder notation.\n",
    "\n",
    "**Math <-> Python Translation** \n",
    "\n",
    "* Without conditions:\n",
    "     - Mathematics: $\\{x | x \\in A \\}$\n",
    "     - Python $\\{ x \\mbox{ for } x \\mbox{ in } A\\}$\n",
    "* With conditions:\n",
    "     - Mathematics: $\\{x | x \\in A, x \\mbox{ satisfies some condition } \\}$\n",
    "     - Python $\\{ x \\mbox{ for } x \\mbox{ in } A \\mbox{ if } x \\mbox{ satisfies some condition }\\}$"
   ]
  },
  {
   "cell_type": "markdown",
   "metadata": {},
   "source": [
    "**Ex1** Lets use the set builder notation to define the set A"
   ]
  },
  {
   "cell_type": "code",
   "execution_count": 1,
   "metadata": {
    "collapsed": false
   },
   "outputs": [
    {
     "data": {
      "text/plain": [
       "{1, 2, 3, 4}"
      ]
     },
     "execution_count": 1,
     "metadata": {},
     "output_type": "execute_result"
    }
   ],
   "source": [
    "# Create the set of all x in the set A = {1,2,3,4}\n",
    "A = {1,2,3,4}\n",
    "{x for x in A}"
   ]
  },
  {
   "cell_type": "markdown",
   "metadata": {},
   "source": [
    "**Ex2** Lets find the set of elements that satisfy $\\{ x | x \\in A, x/2 \\}$ and $A = \\{1,2,3,4 \\}$"
   ]
  },
  {
   "cell_type": "code",
   "execution_count": 18,
   "metadata": {
    "collapsed": false
   },
   "outputs": [
    {
     "data": {
      "text/plain": [
       "{3, 4}"
      ]
     },
     "execution_count": 18,
     "metadata": {},
     "output_type": "execute_result"
    }
   ],
   "source": [
    "# Add the condition that x is greater than 2\n",
    "A = {1,2,3,4}\n",
    "{x for x in A if x > 2}"
   ]
  },
  {
   "cell_type": "code",
   "execution_count": 19,
   "metadata": {
    "collapsed": false,
    "scrolled": true
   },
   "outputs": [
    {
     "data": {
      "text/plain": [
       "{1, 3}"
      ]
     },
     "execution_count": 19,
     "metadata": {},
     "output_type": "execute_result"
    }
   ],
   "source": [
    "# Lets add a condition that x is divisable by 2\n",
    "A = {1,2,3,4}\n",
    "{x for x in A if x%2}"
   ]
  },
  {
   "cell_type": "markdown",
   "metadata": {},
   "source": [
    "**Q1** List the elements in the set $\\{ x | x \\in A, \\mbox{ if } x<0$\\}, with $A = \\{1,2,3,4,5,6\\}$"
   ]
  },
  {
   "cell_type": "code",
   "execution_count": 2,
   "metadata": {
    "collapsed": false
   },
   "outputs": [
    {
     "data": {
      "text/plain": [
       "set()"
      ]
     },
     "execution_count": 2,
     "metadata": {},
     "output_type": "execute_result"
    }
   ],
   "source": [
    "A={1,2,3,4,5,6}\n",
    "{x for x in A if x <0}"
   ]
  },
  {
   "cell_type": "markdown",
   "metadata": {},
   "source": [
    "**Q2** List the elements in the set $\\{ x | x \\in A, \\mbox{ if } x/2 $\\}, with $A = \\{1,2,3,4,5,6\\}$"
   ]
  },
  {
   "cell_type": "code",
   "execution_count": 9,
   "metadata": {
    "collapsed": false
   },
   "outputs": [
    {
     "data": {
      "text/plain": [
       "{2, 4, 6}"
      ]
     },
     "execution_count": 9,
     "metadata": {},
     "output_type": "execute_result"
    }
   ],
   "source": [
    "# Lets add a condition that x is divisable by 2\n",
    "A={1,2,3,4,5,6}\n",
    "{x for x in A if x%2==0}"
   ]
  },
  {
   "cell_type": "markdown",
   "metadata": {},
   "source": [
    "**Q3** List the elements in the set $\\{x+y |  x \\in A, y \\in B\\},$ $A = \\{1,2,3\\}$ and $B = \\{4,5\\}$"
   ]
  },
  {
   "cell_type": "code",
   "execution_count": 10,
   "metadata": {
    "collapsed": false
   },
   "outputs": [
    {
     "data": {
      "text/plain": [
       "{5, 6, 7, 8}"
      ]
     },
     "execution_count": 10,
     "metadata": {},
     "output_type": "execute_result"
    }
   ],
   "source": [
    "A={1,2,3}\n",
    "B={4,5}\n",
    "{(x+y) for x in A for y in B}\n"
   ]
  },
  {
   "cell_type": "markdown",
   "metadata": {},
   "source": [
    "**Ex1** Lets find the set of ordered pairs satisfying $\\{(x,y)| x \\in A, y \\in B \\}$ where $A = \\{1,2,3,4\\}$ and $B = \\{a,b\\}.$"
   ]
  },
  {
   "cell_type": "code",
   "execution_count": 26,
   "metadata": {
    "collapsed": false
   },
   "outputs": [
    {
     "data": {
      "text/plain": [
       "{(1, 'a'),\n",
       " (1, 'b'),\n",
       " (2, 'a'),\n",
       " (2, 'b'),\n",
       " (3, 'a'),\n",
       " (3, 'b'),\n",
       " (4, 'a'),\n",
       " (4, 'b')}"
      ]
     },
     "execution_count": 26,
     "metadata": {},
     "output_type": "execute_result"
    }
   ],
   "source": [
    "# Create a set of ordered pairs\n",
    "A = {1,2,3,4}\n",
    "B = {'a','b'}\n",
    "{(x,y) for x in A for y in B}"
   ]
  },
  {
   "cell_type": "markdown",
   "metadata": {},
   "source": [
    "**Ex1** Lets find the set of ordered pairs satisfying $\\{(x,y)| x \\in A, y \\in B, x^2 - y \\in A \\}$ where $A = \\{1,2,3,4\\}$ and $B = \\{1,2,3,4\\}.$"
   ]
  },
  {
   "cell_type": "code",
   "execution_count": 61,
   "metadata": {
    "collapsed": false
   },
   "outputs": [
    {
     "data": {
      "text/plain": [
       "{(2, 1), (2, 2), (2, 3), (3, 4)}"
      ]
     },
     "execution_count": 61,
     "metadata": {},
     "output_type": "execute_result"
    }
   ],
   "source": [
    "#Create a set of ordered pair with a condition on the elements\n",
    "A = {1,2,3,4,5}\n",
    "B = {1,2,3,4}\n",
    "{(x,y) for x in A for y in B if x**2 - y in A}"
   ]
  },
  {
   "cell_type": "markdown",
   "metadata": {},
   "source": [
    "**Q4** List the pairs of the set $\\{(x,y) | x \\in A, x \\in B, x^2 - y \\in A\\},$ $A = \\{1,2,3\\}$ and $B = \\{4,5\\}$"
   ]
  },
  {
   "cell_type": "code",
   "execution_count": 18,
   "metadata": {
    "collapsed": false
   },
   "outputs": [
    {
     "data": {
      "text/plain": [
       "set()"
      ]
     },
     "execution_count": 18,
     "metadata": {},
     "output_type": "execute_result"
    }
   ],
   "source": [
    "A={1,2,3,}\n",
    "B={4,5}\n",
    "{(x,y) for x in A for y in B if x**2 - y in A}"
   ]
  },
  {
   "cell_type": "markdown",
   "metadata": {},
   "source": [
    "**Q5** List the pairs of the set $\\{(x,y) | x \\in A, y \\in B, x^2 - y \\in B\\},$ $A = \\{1,2,3\\}$ and $B = \\{4,5\\}$"
   ]
  },
  {
   "cell_type": "code",
   "execution_count": 19,
   "metadata": {
    "collapsed": false
   },
   "outputs": [
    {
     "data": {
      "text/plain": [
       "{(3, 4), (3, 5)}"
      ]
     },
     "execution_count": 19,
     "metadata": {},
     "output_type": "execute_result"
    }
   ],
   "source": [
    "A={1,2,3}\n",
    "B={4,5}\n",
    "{(x,y) for x in A for y in B if x**2 - y in B}"
   ]
  },
  {
   "cell_type": "markdown",
   "metadata": {},
   "source": [
    "**Q6** List the pairs of the set $\\{(x,y) | x \\in A, x \\in B, (x^2 - y^2)/3 \\},$ $A = \\{1,2,3\\}$ and $B = \\{4,5\\}$"
   ]
  },
  {
   "cell_type": "code",
   "execution_count": 22,
   "metadata": {
    "collapsed": false
   },
   "outputs": [
    {
     "data": {
      "text/plain": [
       "{(1, 4), (1, 5), (2, 4), (2, 5)}"
      ]
     },
     "execution_count": 22,
     "metadata": {},
     "output_type": "execute_result"
    }
   ],
   "source": [
    "A={1,2,3}\n",
    "B={4,5}\n",
    "{(x,y) for x in A for y in B if (x**2-y**2)%3==0}"
   ]
  },
  {
   "cell_type": "code",
   "execution_count": null,
   "metadata": {
    "collapsed": true
   },
   "outputs": [],
   "source": []
  }
 ],
 "metadata": {
  "kernelspec": {
   "display_name": "Python 3",
   "language": "python",
   "name": "python3"
  },
  "language_info": {
   "codemirror_mode": {
    "name": "ipython",
    "version": 3
   },
   "file_extension": ".py",
   "mimetype": "text/x-python",
   "name": "python",
   "nbconvert_exporter": "python",
   "pygments_lexer": "ipython3",
   "version": "3.4.3"
  }
 },
 "nbformat": 4,
 "nbformat_minor": 0
}
